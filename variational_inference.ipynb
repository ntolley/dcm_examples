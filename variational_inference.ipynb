{
 "cells": [
  {
   "cell_type": "code",
   "execution_count": 23,
   "metadata": {},
   "outputs": [],
   "source": [
    "import numpy as np\n",
    "import matplotlib.pyplot as plt\n",
    "from scipy.stats import norm, uniform"
   ]
  },
  {
   "cell_type": "code",
   "execution_count": 24,
   "metadata": {},
   "outputs": [],
   "source": [
    "mu_prior = 5 # Mean of gaussian prior\n",
    "sigma_prior = 3 # Variance of gaussian prior"
   ]
  },
  {
   "cell_type": "code",
   "execution_count": 25,
   "metadata": {},
   "outputs": [],
   "source": [
    "prior = norm(mu_prior, sigma_prior)\n",
    "sigma_epsilon = 0.2 # Variance of observation noise\n",
    "noise = norm(0, sigma_epsilon)\n",
    "true_posterior = norm()\n",
    "\n",
    "class h_kernel(object):\n",
    "    def __init__(self, A=5):\n",
    "        self.A = A\n",
    "    def __call__(self, theta):\n",
    "        return self.A * theta\n",
    "\n",
    "\n",
    "h = h_kernel(A=5)\n",
    "\n",
    "sigma_epsilon = 0.2 # Variance of observation noise\n",
    "def y_obv(theta, h=h, noise=noise):\n",
    "    obv = h(theta) + noise.rvs(1)\n",
    "    return obv[0]\n",
    "\n"
   ]
  },
  {
   "cell_type": "code",
   "execution_count": 28,
   "metadata": {},
   "outputs": [
    {
     "data": {
      "text/plain": [
       "149.8975538693342"
      ]
     },
     "execution_count": 28,
     "metadata": {},
     "output_type": "execute_result"
    }
   ],
   "source": []
  },
  {
   "cell_type": "code",
   "execution_count": null,
   "metadata": {},
   "outputs": [],
   "source": []
  }
 ],
 "metadata": {
  "interpreter": {
   "hash": "d0efaeb1f57b331682f483338b2ece2b224a46046d22ccab062f7cb485953279"
  },
  "kernelspec": {
   "display_name": "Python 3.8.3 ('base')",
   "language": "python",
   "name": "python3"
  },
  "language_info": {
   "codemirror_mode": {
    "name": "ipython",
    "version": 3
   },
   "file_extension": ".py",
   "mimetype": "text/x-python",
   "name": "python",
   "nbconvert_exporter": "python",
   "pygments_lexer": "ipython3",
   "version": "3.8.3"
  },
  "orig_nbformat": 4
 },
 "nbformat": 4,
 "nbformat_minor": 2
}
