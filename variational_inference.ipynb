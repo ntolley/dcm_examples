{
 "cells": [
  {
   "cell_type": "code",
   "execution_count": 37,
   "metadata": {},
   "outputs": [],
   "source": [
    "import numpy as np\n",
    "import matplotlib.pyplot as plt\n",
    "from scipy.stats import norm, uniform"
   ]
  },
  {
   "cell_type": "code",
   "execution_count": 33,
   "metadata": {},
   "outputs": [],
   "source": [
    "mu_prior = 20 # Mean of gaussian prior\n",
    "sigma_prior = 100 # Variance of gaussian prior\n",
    "\n",
    "prior = norm(mu_prior, sigma_prior)\n",
    "sigma_epsilon = 2 # Variance of observation noise\n",
    "noise = norm(0, sigma_epsilon)\n",
    "\n",
    "class h_kernel(object):\n",
    "    def __init__(self, A=5):\n",
    "        self.A = A\n",
    "        self.d_theta = A\n",
    "    def __call__(self, theta):\n",
    "        return self.A * theta\n",
    "\n",
    "\n",
    "h = h_kernel(A=5)\n",
    "\n",
    "def y_obv(theta, h=h, noise=noise):\n",
    "    obv = h(theta) + noise.rvs(1)\n",
    "    return obv[0]\n",
    "\n"
   ]
  },
  {
   "cell_type": "code",
   "execution_count": 34,
   "metadata": {},
   "outputs": [],
   "source": [
    "def get_sigma(mu_old, sigma_old, sigma_epsilon=sigma_epsilon, h=h):\n",
    "    J = h.d_theta\n",
    "    left_term = 1 / sigma_old\n",
    "    right_term = ((J**2) * mu_old) / sigma_epsilon\n",
    "\n",
    "    return 1 / (left_term + right_term)\n",
    "\n",
    "def get_mu(mu_old, sigma_current, y, sigma_epsilon=sigma_epsilon, \n",
    "           h=h, mu_prior=mu_prior, sigma_prior=sigma_prior):\n",
    "    J = h.d_theta\n",
    "    left_term = ((J * mu_old) * (y - h(mu_old))) / sigma_epsilon\n",
    "    right_term = (mu_prior - mu_old) / sigma_prior\n",
    "    \n",
    "    return mu_old + sigma_current * (left_term + right_term)\n"
   ]
  },
  {
   "cell_type": "code",
   "execution_count": 35,
   "metadata": {},
   "outputs": [],
   "source": [
    "theta_true = 3\n",
    "y = y_obv(theta_true)\n",
    "\n",
    "mu_list, sigma_list = [mu_prior], [sigma_prior]\n",
    "mu_i, sigma_i = mu_prior, sigma_prior\n",
    "for idx in range(1000):\n",
    "    #print(idx, end=' ')\n",
    "    sigma_i = get_sigma(mu_i, sigma_i)\n",
    "    mu_i = get_mu(mu_i, sigma_i, y)\n",
    "\n",
    "    mu_list.append(mu_i)\n",
    "    sigma_list.append(sigma_i)\n",
    "    "
   ]
  },
  {
   "cell_type": "code",
   "execution_count": 36,
   "metadata": {},
   "outputs": [
    {
     "data": {
      "text/plain": [
       "[<matplotlib.lines.Line2D at 0x7fa7825acd00>]"
      ]
     },
     "execution_count": 36,
     "metadata": {},
     "output_type": "execute_result"
    },
    {
     "data": {
      "image/png": "[encoded data removed]",
      "text/plain": [
       "<Figure size 432x288 with 1 Axes>"
      ]
     },
     "metadata": {
      "needs_background": "light"
     },
     "output_type": "display_data"
    }
   ],
   "source": [
    "plt.plot(mu_list)"
   ]
  },
  {
   "cell_type": "code",
   "execution_count": null,
   "metadata": {},
   "outputs": [],
   "source": []
  }
 ],
 "metadata": {
  "interpreter": {
   "hash": "d0efaeb1f57b331682f483338b2ece2b224a46046d22ccab062f7cb485953279"
  },
  "kernelspec": {
   "display_name": "Python 3.8.3 ('base')",
   "language": "python",
   "name": "python3"
  },
  "language_info": {
   "codemirror_mode": {
    "name": "ipython",
    "version": 3
   },
   "file_extension": ".py",
   "mimetype": "text/x-python",
   "name": "python",
   "nbconvert_exporter": "python",
   "pygments_lexer": "ipython3",
   "version": "3.8.3"
  },
  "orig_nbformat": 4
 },
 "nbformat": 4,
 "nbformat_minor": 2
}
