{
 "cells": [
  {
   "cell_type": "code",
   "execution_count": 30,
   "metadata": {},
   "outputs": [],
   "source": [
    "import numpy as np\n",
    "import matplotlib.pyplot as plt\n",
    "from scipy.stats import norm, uniform"
   ]
  },
  {
   "cell_type": "code",
   "execution_count": 31,
   "metadata": {},
   "outputs": [],
   "source": [
    "theta_true = 3"
   ]
  },
  {
   "cell_type": "code",
   "execution_count": 32,
   "metadata": {},
   "outputs": [],
   "source": [
    "mu_prior = 5 # Mean of gaussian prior\n",
    "sigma_prior = 3 # Variance of gaussian prior\n",
    "\n",
    "prior = norm(mu_prior, sigma_prior)\n",
    "sigma_epsilon = 0.2 # Variance of observation noise\n",
    "noise = norm(0, sigma_epsilon)\n",
    "true_posterior = norm()\n",
    "\n",
    "class h_kernel(object):\n",
    "    def __init__(self, A=5):\n",
    "        self.A = A\n",
    "    def __call__(self, theta):\n",
    "        return self.A * theta\n",
    "\n",
    "\n",
    "h = h_kernel(A=5)\n",
    "\n",
    "sigma_epsilon = 0.2 # Variance of observation noise\n",
    "def y_obv(theta, h=h, noise=noise):\n",
    "    obv = h(theta) + noise.rvs(1)\n",
    "    return obv[0]\n",
    "\n"
   ]
  },
  {
   "cell_type": "code",
   "execution_count": 33,
   "metadata": {},
   "outputs": [],
   "source": [
    "\n",
    "def sigma_new(sigma_old, mu_old, sigma_epsilon=sigma_epsilon, h=h):\n",
    "    J = h.A\n",
    "    left_term = 1 / sigma_old\n",
    "    right_term = ((J**2) * mu_old) / sigma_epsilon\n",
    "\n",
    "    return 1 / (left_term + right_term)\n",
    "\n",
    "def mu_new(sigma_current, mu_old, y, sigma_epsilon=sigma_epsilon, \n",
    "           h=h, mu_prior=mu_prior, sigma_prior=sigma_prior):\n",
    "    J = h.A\n",
    "    left_term = ((J * mu_old) * (y - h(mu_old))) / sigma_epsilon\n",
    "    right_term = (mu_prior - mu_old) / sigma_prior\n",
    "    \n",
    "    return mu_old + sigma_current\n"
   ]
  },
  {
   "cell_type": "code",
   "execution_count": null,
   "metadata": {},
   "outputs": [],
   "source": []
  }
 ],
 "metadata": {
  "interpreter": {
   "hash": "d0efaeb1f57b331682f483338b2ece2b224a46046d22ccab062f7cb485953279"
  },
  "kernelspec": {
   "display_name": "Python 3.8.3 ('base')",
   "language": "python",
   "name": "python3"
  },
  "language_info": {
   "codemirror_mode": {
    "name": "ipython",
    "version": 3
   },
   "file_extension": ".py",
   "mimetype": "text/x-python",
   "name": "python",
   "nbconvert_exporter": "python",
   "pygments_lexer": "ipython3",
   "version": "3.8.3"
  },
  "orig_nbformat": 4
 },
 "nbformat": 4,
 "nbformat_minor": 2
}
